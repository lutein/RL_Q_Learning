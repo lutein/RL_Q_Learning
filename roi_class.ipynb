{
 "cells": [
  {
   "cell_type": "code",
   "execution_count": 1,
   "metadata": {},
   "outputs": [
    {
     "name": "stdout",
     "output_type": "stream",
     "text": [
      "5717\n"
     ]
    }
   ],
   "source": [
    "import torch\n",
    "import torch.nn as nn\n",
    "import torch.nn.functional as F\n",
    "import torch.optim as optim\n",
    "import torch.utils.data as data\n",
    "from torchvision import models, datasets, transforms\n",
    "from torch.autograd import Variable\n",
    "import numpy as np\n",
    "import os\n",
    "from PIL import Image\n",
    "import matplotlib.image as mpimg\n",
    "import pandas as pd\n",
    "import matplotlib.pyplot as plt\n",
    "from IoU import IoU\n",
    "from replay_buffer import ReplayBuffer\n",
    "import collections\n",
    "from PIL import ImageDraw\n",
    "import random\n",
    "import re\n",
    "#import train\n",
    "#----------------read data-----------------------\n",
    "def Str2np(target):\n",
    "    num = re.sub(r'\\D', \" \", target)\n",
    "    a = np.fromstring(num, dtype=int, sep=' ')\n",
    "    return a\n",
    "\n",
    "def ReadData(csv_dir, img_dir, image_sets , test = None):\n",
    "    imgs = []\n",
    "    if test is not None:\n",
    "        train_filename = csv_dir+'/val.csv'\n",
    "    else:\n",
    "        train_filename = csv_dir + '/train.csv'\n",
    "\n",
    "    data = pd.read_csv(train_filename)\n",
    "    name = data.fname.values\n",
    "    child = data.child.values\n",
    "    for i, entry in enumerate(name):\n",
    "        pack = child[i]\n",
    "        imgs.append([entry, Str2np(pack)])\n",
    "    return imgs\n",
    "\n",
    "root_dir =  '/home/minty/dataset/VOCdevkit/VOC2012/'\n",
    "csv_dir = os.path.join(root_dir,'src')\n",
    "img_dir = os.path.join(root_dir,'JPEGImages')\n",
    "image_sets =  ['aeroplane', 'bicycle', 'bird', 'boat', 'bottle', 'bus', 'car', 'cat',\\\n",
    "      'chair', 'cow', 'diningtable', 'dog', 'horse', 'motorbike', 'person', \\\n",
    "      'pottedplant', 'sheep', 'sofa', 'train', 'tvmonitor']\n",
    "imgs = ReadData(csv_dir,img_dir,image_sets, test = None)\n",
    "input_transform = transforms.Compose([\n",
    "    transforms.RandomHorizontalFlip(),\n",
    "    transforms.ToTensor(),\n",
    "    transforms.Normalize(mean = [ 0.485, 0.456, 0.406 ],\n",
    "                        std = [ 0.229, 0.224, 0.225 ]),\n",
    "])\n",
    "\n",
    "class Data(data.Dataset):\n",
    "    def __init__(self, imgs, image_sets, input_transform = None, \\\n",
    "                 target_transform = None ,test = None):\n",
    "        self.test = test\n",
    "        self.input_transform = input_transform\n",
    "        self.target_transform = target_transform\n",
    "        self.classes = len(image_sets)\n",
    "        self.imgs = imgs\n",
    "\n",
    "    def __getitem__(self, index):\n",
    "        fn, pack = self.imgs[index]\n",
    "        #label = torch.LongTensor([[y]])\n",
    "        img = Image.open(fn).convert('RGB')\n",
    "        #box = torch.LongTensor([[xmin, ymin, xmax, ymax]])\n",
    "        if self.input_transform is not None:\n",
    "            img = self.input_transform(img)\n",
    "        return img, pack, fn\n",
    "\n",
    "    def __len__(self):\n",
    "        return len(self.imgs)\n",
    "\n",
    "img_data = Data(imgs, image_sets, input_transform = input_transform, \\\n",
    "                target_transform = None, test=None)\n",
    "test_data = Data(imgs, image_sets, input_transform = input_transform, \\\n",
    "                 target_transform = None, test = True)\n",
    "#print(len(img_data.imgs))\n",
    "img_batch = data.DataLoader(img_data, batch_size = 1 ,shuffle = True, num_workers = 2)\n",
    "test_batch = data.DataLoader(test_data, batch_size = 1, shuffle = True, num_workers = 2)\n",
    "print len(img_batch)"
   ]
  },
  {
   "cell_type": "code",
   "execution_count": 2,
   "metadata": {
    "collapsed": true
   },
   "outputs": [],
   "source": [
    "def Transition(box):\n",
    "    x_img = img[:, :, box[1]:box[3]+1, box[0]:box[2]+1]\n",
    "    return x_img\n",
    "\n",
    "def Cat_State(box_img, img):\n",
    "    roi_pooling = nn.AdaptiveAvgPool2d((2, 2))\n",
    "    state1 = roi_pooling(box_img).view(-1)\n",
    "    #state2 = roi_pooling(Extractor.forward(Variable(img, volatile = True))).view(-1)\n",
    "    state2 = roi_pooling(Extractor.forward(Variable(img))).view(-1)\n",
    "    state = torch.cat((state1, state2), 0).unsqueeze(0)\n",
    "    return state"
   ]
  },
  {
   "cell_type": "code",
   "execution_count": 30,
   "metadata": {
    "collapsed": true
   },
   "outputs": [],
   "source": [
    "box_img = Transition(ground_truth[0])"
   ]
  },
  {
   "cell_type": "code",
   "execution_count": 37,
   "metadata": {},
   "outputs": [
    {
     "name": "stdout",
     "output_type": "stream",
     "text": [
      "Variable containing:\n",
      " 14\n",
      "[torch.cuda.LongTensor of size 1 (GPU 0)]\n",
      "\n"
     ]
    }
   ],
   "source": [
    "#print Variable(cls[j]).cuda()\n",
    "print Variable(torch.LongTensor([cls[0]])).cuda()"
   ]
  },
  {
   "cell_type": "code",
   "execution_count": 4,
   "metadata": {
    "scrolled": true
   },
   "outputs": [
    {
     "name": "stdout",
     "output_type": "stream",
     "text": [
      "Variable containing:\n",
      "\n",
      "Columns 0 to 9 \n",
      "-0.2404  0.1996  0.7388  0.5363  0.1905  0.4173 -0.1981 -0.1044 -0.1245 -0.1252\n",
      "\n",
      "Columns 10 to 19 \n",
      "-0.2819  0.4622  0.2222  0.2034  0.1057 -0.5470 -0.3974  0.2466 -0.1808  0.0115\n",
      "[torch.FloatTensor of size 1x20]\n",
      "\n"
     ]
    }
   ],
   "source": [
    "resnet = models.resnet101(pretrained=True)\n",
    "resnet.maxpool = nn.AdaptiveAvgPool2d((75, 75))\n",
    "net = nn.Sequential(*list(resnet.children())[:-1])\n",
    "#roi = nn.AdaptiveMaxPool2d((75,75))\n",
    "resnet.fc = nn.Linear(2048, 20)\n",
    "img, pack, fn = next(iter(img_batch))\n",
    "print resnet(Variable(img))"
   ]
  },
  {
   "cell_type": "code",
   "execution_count": 43,
   "metadata": {
    "scrolled": true
   },
   "outputs": [
    {
     "ename": "RuntimeError",
     "evalue": "Variable data has to be a tensor, but got Variable",
     "output_type": "error",
     "traceback": [
      "\u001b[0;31m---------------------------------------------------------------------------\u001b[0m",
      "\u001b[0;31mRuntimeError\u001b[0m                              Traceback (most recent call last)",
      "\u001b[0;32m<ipython-input-43-31c6184cf5cb>\u001b[0m in \u001b[0;36m<module>\u001b[0;34m()\u001b[0m\n\u001b[1;32m      5\u001b[0m \u001b[0mresnet\u001b[0m\u001b[0;34m.\u001b[0m\u001b[0mfc\u001b[0m \u001b[0;34m=\u001b[0m \u001b[0mnn\u001b[0m\u001b[0;34m.\u001b[0m\u001b[0mLinear\u001b[0m\u001b[0;34m(\u001b[0m\u001b[0;36m2048\u001b[0m\u001b[0;34m,\u001b[0m \u001b[0;36m20\u001b[0m\u001b[0;34m)\u001b[0m\u001b[0;34m\u001b[0m\u001b[0m\n\u001b[1;32m      6\u001b[0m \u001b[0;31m#net = nn.Sequential(*list(resnet.children())[:-1])\u001b[0m\u001b[0;34m\u001b[0m\u001b[0;34m\u001b[0m\u001b[0m\n\u001b[0;32m----> 7\u001b[0;31m \u001b[0;32mprint\u001b[0m \u001b[0mresnet\u001b[0m\u001b[0;34m.\u001b[0m\u001b[0mforward\u001b[0m\u001b[0;34m(\u001b[0m\u001b[0mVariable\u001b[0m\u001b[0;34m(\u001b[0m\u001b[0mbox_img\u001b[0m\u001b[0;34m)\u001b[0m\u001b[0;34m)\u001b[0m\u001b[0;34m\u001b[0m\u001b[0m\n\u001b[0m\u001b[1;32m      8\u001b[0m \"\"\"net = nn.Sequential(*list(resnet.children())[:-2])\n\u001b[1;32m      9\u001b[0m \u001b[0mroi\u001b[0m \u001b[0;34m=\u001b[0m \u001b[0mnn\u001b[0m\u001b[0;34m.\u001b[0m\u001b[0mAdaptiveMaxPool2d\u001b[0m\u001b[0;34m(\u001b[0m\u001b[0;34m(\u001b[0m\u001b[0;36m2\u001b[0m\u001b[0;34m,\u001b[0m \u001b[0;36m2\u001b[0m\u001b[0;34m)\u001b[0m\u001b[0;34m)\u001b[0m\u001b[0;34m\u001b[0m\u001b[0m\n",
      "\u001b[0;31mRuntimeError\u001b[0m: Variable data has to be a tensor, but got Variable"
     ]
    }
   ],
   "source": [
    "resnet = models.resnet18(pretrained=True)\n",
    "#resnet = torch.load('resnet184classification.pth')\n",
    "#resnet.maxpool = nn.AdaptiveAvgPool2d((75, 75))\n",
    "resnet.avgpool = nn.AdaptiveMaxPool2d((2, 2))\n",
    "resnet.fc = nn.Linear(2048, 20)\n",
    "#net = nn.Sequential(*list(resnet.children())[:-1])\n",
    "print resnet.forward(Variable(box_img))\n",
    "\"\"\"net = nn.Sequential(*list(resnet.children())[:-2])\n",
    "roi = nn.AdaptiveMaxPool2d((2, 2))\n",
    "fc = nn.Linear(2048, 20)\n",
    "img, pack, fn= next(iter(img_batch))\n",
    "print fc(roi(net(Variable(img))).view(-1)).unsqueeze(0)\"\"\""
   ]
  },
  {
   "cell_type": "code",
   "execution_count": 5,
   "metadata": {
    "scrolled": true
   },
   "outputs": [
    {
     "name": "stdout",
     "output_type": "stream",
     "text": [
      "epoch: 1, loss: 1.49338459969\n",
      "epoch: 2, loss: 2.26698827744\n",
      "epoch: 3, loss: 3.10697364807\n",
      "epoch: 4, loss: 1.76457822323\n",
      "epoch: 5, loss: 3.21612977982\n",
      "epoch: 6, loss: 2.02116823196\n",
      "epoch: 7, loss: 5.25745677948\n",
      "epoch: 8, loss: 2.05392551422\n",
      "epoch: 9, loss: 3.09744215012\n",
      "epoch: 10, loss: 0.573021650314\n",
      "epoch: 11, loss: 3.47786426544\n",
      "epoch: 12, loss: 1.97980117798\n",
      "epoch: 13, loss: 2.33223772049\n",
      "epoch: 14, loss: 2.87138843536\n",
      "epoch: 15, loss: 0.776550292969\n",
      "epoch: 16, loss: 3.64056372643\n",
      "epoch: 17, loss: 0.286214590073\n",
      "epoch: 18, loss: 0.27937746048\n",
      "epoch: 19, loss: 4.05535316467\n",
      "epoch: 20, loss: 1.26800107956\n",
      "epoch: 21, loss: 0.289633274078\n",
      "epoch: 22, loss: 0.9065990448\n",
      "epoch: 23, loss: 2.1411075592\n",
      "epoch: 24, loss: 0.147664546967\n",
      "epoch: 25, loss: 5.01729488373\n",
      "epoch: 26, loss: 3.03770637512\n",
      "epoch: 27, loss: 2.59687423706\n",
      "epoch: 28, loss: 2.19838619232\n",
      "epoch: 29, loss: 2.77343177795\n",
      "epoch: 30, loss: 0.703294754028\n",
      "epoch: 31, loss: 3.72428321838\n",
      "epoch: 32, loss: 1.12459373474\n",
      "epoch: 33, loss: 2.00884914398\n"
     ]
    },
    {
     "name": "stderr",
     "output_type": "stream",
     "text": [
      "Process Process-71:\n",
      "Traceback (most recent call last):\n",
      "  File \"/usr/lib/python2.7/multiprocessing/process.py\", line 258, in _bootstrap\n",
      "    self.run()\n",
      "  File \"/usr/lib/python2.7/multiprocessing/process.py\", line 114, in run\n",
      "    self._target(*self._args, **self._kwargs)\n",
      "  File \"/usr/local/lib/python2.7/dist-packages/torch/utils/data/dataloader.py\", line 34, in _worker_loop\n",
      "    r = index_queue.get()\n",
      "  File \"/usr/lib/python2.7/multiprocessing/queues.py\", line 374, in get\n",
      "    racquire()\n",
      "Process Process-72:\n",
      "KeyboardInterrupt\n",
      "Traceback (most recent call last):\n",
      "  File \"/usr/lib/python2.7/multiprocessing/process.py\", line 258, in _bootstrap\n",
      "    self.run()\n",
      "  File \"/usr/lib/python2.7/multiprocessing/process.py\", line 114, in run\n",
      "    self._target(*self._args, **self._kwargs)\n",
      "  File \"/usr/local/lib/python2.7/dist-packages/torch/utils/data/dataloader.py\", line 34, in _worker_loop\n",
      "    r = index_queue.get()\n",
      "  File \"/usr/lib/python2.7/multiprocessing/queues.py\", line 376, in get\n",
      "    return recv()\n",
      "  File \"/usr/local/lib/python2.7/dist-packages/torch/multiprocessing/queue.py\", line 21, in recv\n",
      "    buf = self.recv_bytes()\n",
      "KeyboardInterrupt\n"
     ]
    },
    {
     "ename": "KeyboardInterrupt",
     "evalue": "",
     "output_type": "error",
     "traceback": [
      "\u001b[0;31m---------------------------------------------------------------------------\u001b[0m",
      "\u001b[0;31mKeyboardInterrupt\u001b[0m                         Traceback (most recent call last)",
      "\u001b[0;32m<ipython-input-5-c8b033d9f562>\u001b[0m in \u001b[0;36m<module>\u001b[0;34m()\u001b[0m\n\u001b[1;32m     23\u001b[0m             \u001b[0;31m#_, pred = torch.max(output.data,1)\u001b[0m\u001b[0;34m\u001b[0m\u001b[0;34m\u001b[0m\u001b[0m\n\u001b[1;32m     24\u001b[0m             \u001b[0mloss_\u001b[0m \u001b[0;34m=\u001b[0m \u001b[0mloss_func\u001b[0m\u001b[0;34m(\u001b[0m\u001b[0moutput\u001b[0m\u001b[0;34m,\u001b[0m\u001b[0mlabel\u001b[0m\u001b[0;34m)\u001b[0m\u001b[0;34m\u001b[0m\u001b[0m\n\u001b[0;32m---> 25\u001b[0;31m             \u001b[0mloss_\u001b[0m\u001b[0;34m.\u001b[0m\u001b[0mbackward\u001b[0m\u001b[0;34m(\u001b[0m\u001b[0;34m)\u001b[0m\u001b[0;34m\u001b[0m\u001b[0m\n\u001b[0m\u001b[1;32m     26\u001b[0m             \u001b[0moptimizer\u001b[0m\u001b[0;34m.\u001b[0m\u001b[0mstep\u001b[0m\u001b[0;34m(\u001b[0m\u001b[0;34m)\u001b[0m\u001b[0;34m\u001b[0m\u001b[0m\n\u001b[1;32m     27\u001b[0m     \u001b[0mloss\u001b[0m\u001b[0;34m.\u001b[0m\u001b[0mappend\u001b[0m\u001b[0;34m(\u001b[0m\u001b[0mloss_\u001b[0m\u001b[0;34m.\u001b[0m\u001b[0mdata\u001b[0m\u001b[0;34m[\u001b[0m\u001b[0;36m0\u001b[0m\u001b[0;34m]\u001b[0m\u001b[0;34m)\u001b[0m\u001b[0;34m\u001b[0m\u001b[0m\n",
      "\u001b[0;32m/usr/local/lib/python2.7/dist-packages/torch/autograd/variable.pyc\u001b[0m in \u001b[0;36mbackward\u001b[0;34m(self, gradient, retain_graph, create_graph, retain_variables)\u001b[0m\n\u001b[1;32m    154\u001b[0m                 \u001b[0mVariable\u001b[0m\u001b[0;34m.\u001b[0m\u001b[0;34m\u001b[0m\u001b[0m\n\u001b[1;32m    155\u001b[0m         \"\"\"\n\u001b[0;32m--> 156\u001b[0;31m         \u001b[0mtorch\u001b[0m\u001b[0;34m.\u001b[0m\u001b[0mautograd\u001b[0m\u001b[0;34m.\u001b[0m\u001b[0mbackward\u001b[0m\u001b[0;34m(\u001b[0m\u001b[0mself\u001b[0m\u001b[0;34m,\u001b[0m \u001b[0mgradient\u001b[0m\u001b[0;34m,\u001b[0m \u001b[0mretain_graph\u001b[0m\u001b[0;34m,\u001b[0m \u001b[0mcreate_graph\u001b[0m\u001b[0;34m,\u001b[0m \u001b[0mretain_variables\u001b[0m\u001b[0;34m)\u001b[0m\u001b[0;34m\u001b[0m\u001b[0m\n\u001b[0m\u001b[1;32m    157\u001b[0m \u001b[0;34m\u001b[0m\u001b[0m\n\u001b[1;32m    158\u001b[0m     \u001b[0;32mdef\u001b[0m \u001b[0mregister_hook\u001b[0m\u001b[0;34m(\u001b[0m\u001b[0mself\u001b[0m\u001b[0;34m,\u001b[0m \u001b[0mhook\u001b[0m\u001b[0;34m)\u001b[0m\u001b[0;34m:\u001b[0m\u001b[0;34m\u001b[0m\u001b[0m\n",
      "\u001b[0;32m/usr/local/lib/python2.7/dist-packages/torch/autograd/__init__.pyc\u001b[0m in \u001b[0;36mbackward\u001b[0;34m(variables, grad_variables, retain_graph, create_graph, retain_variables)\u001b[0m\n\u001b[1;32m     96\u001b[0m \u001b[0;34m\u001b[0m\u001b[0m\n\u001b[1;32m     97\u001b[0m     Variable._execution_engine.run_backward(\n\u001b[0;32m---> 98\u001b[0;31m         variables, grad_variables, retain_graph)\n\u001b[0m\u001b[1;32m     99\u001b[0m \u001b[0;34m\u001b[0m\u001b[0m\n\u001b[1;32m    100\u001b[0m \u001b[0;34m\u001b[0m\u001b[0m\n",
      "\u001b[0;31mKeyboardInterrupt\u001b[0m: "
     ]
    }
   ],
   "source": [
    "learning_rate =0.001\n",
    "epoch = 50\n",
    "loss_func = nn.CrossEntropyLoss()\n",
    "#optimizer = optim.Adam([{'params':model.parameters()},{'params':resnet.parameters()}],\\\n",
    "#lr=learning_rate)\n",
    "optimizer = optim.Adam(resnet.parameters(), lr = learning_rate)\n",
    "resnet.cuda()\n",
    "loss=[]\n",
    "lossmin = 0.\n",
    "for i in range(epoch):\n",
    "    for img, pack, fn in img_batch:\n",
    "        num = int(pack.size(1) / 5)\n",
    "        ground_truth = torch.LongTensor(num, 4)\n",
    "        cls = torch.LongTensor(num)\n",
    "        pack = pack.squeeze(0)\n",
    "        for j in xrange(num):\n",
    "            ground_truth[j] = pack[5*j: 5*j+4].clone()\n",
    "            cls[j] = pack[5*j+4]\n",
    "            box_img = Variable(Transition(ground_truth[j])).cuda()\n",
    "            label = Variable(torch.LongTensor([cls[j]])).cuda()\n",
    "            optimizer.zero_grad()\n",
    "            output = resnet(box_img)\n",
    "            #_, pred = torch.max(output.data,1)\n",
    "            loss_ = loss_func(output,label[:, 0])\n",
    "            loss_.backward()\n",
    "            optimizer.step()\n",
    "    loss.append(loss_.data[0])\n",
    "    print('epoch: {}, loss: {}'.format(i + 1, loss_.data[0]))\n",
    "    if i is 0:\n",
    "        lossmin = loss_.data[0]\n",
    "    if loss_.data[0] < lossmin:\n",
    "        lossmin = loss_.data[0]\n",
    "        torch.save(resnet, 'roi_net'+'.pth')"
   ]
  },
  {
   "cell_type": "code",
   "execution_count": 41,
   "metadata": {},
   "outputs": [
    {
     "data": {
      "image/png": "[encoded data removed]",
      "text/plain": [
       "<matplotlib.figure.Figure at 0x7f6fe25bc910>"
      ]
     },
     "metadata": {},
     "output_type": "display_data"
    }
   ],
   "source": [
    "plt.plot(loss)\n",
    "plt.xlabel('epoch')\n",
    "plt.ylabel('training loss')\n",
    "plt.title('Training Loss history')\n",
    "plt.show()"
   ]
  },
  {
   "cell_type": "code",
   "execution_count": 42,
   "metadata": {
    "scrolled": true
   },
   "outputs": [
    {
     "name": "stderr",
     "output_type": "stream",
     "text": [
      "                                                                                \r"
     ]
    },
    {
     "ename": "TypeError",
     "evalue": "Transition() takes exactly 1 argument (2 given)",
     "output_type": "error",
     "traceback": [
      "\u001b[0;31m---------------------------------------------------------------------------\u001b[0m",
      "\u001b[0;31mTypeError\u001b[0m                                 Traceback (most recent call last)",
      "\u001b[0;32m<ipython-input-42-3e1f24ef9254>\u001b[0m in \u001b[0;36m<module>\u001b[0;34m()\u001b[0m\n\u001b[1;32m     29\u001b[0m \u001b[0mDataset_length\u001b[0m \u001b[0;34m=\u001b[0m \u001b[0mlen\u001b[0m\u001b[0;34m(\u001b[0m\u001b[0mtest_data\u001b[0m\u001b[0;34m)\u001b[0m\u001b[0;34m\u001b[0m\u001b[0m\n\u001b[1;32m     30\u001b[0m \u001b[0;31m#net = torch.load('roi_net40.pth')\u001b[0m\u001b[0;34m\u001b[0m\u001b[0;34m\u001b[0m\u001b[0m\n\u001b[0;32m---> 31\u001b[0;31m \u001b[0mscore\u001b[0m \u001b[0;34m=\u001b[0m \u001b[0mevaluate\u001b[0m\u001b[0;34m(\u001b[0m\u001b[0mmodel\u001b[0m\u001b[0;34m,\u001b[0m \u001b[0mtest_batch\u001b[0m\u001b[0;34m)\u001b[0m\u001b[0;34m\u001b[0m\u001b[0m\n\u001b[0m\u001b[1;32m     32\u001b[0m \u001b[0;34m\u001b[0m\u001b[0m\n\u001b[1;32m     33\u001b[0m \u001b[0mplt\u001b[0m\u001b[0;34m.\u001b[0m\u001b[0mplot\u001b[0m\u001b[0;34m(\u001b[0m\u001b[0mscore\u001b[0m\u001b[0;34m[\u001b[0m\u001b[0;36m1\u001b[0m\u001b[0;34m:\u001b[0m\u001b[0;34m]\u001b[0m\u001b[0;34m,\u001b[0m\u001b[0;34m'-o'\u001b[0m\u001b[0;34m)\u001b[0m\u001b[0;34m\u001b[0m\u001b[0m\n",
      "\u001b[0;32m<ipython-input-42-3e1f24ef9254>\u001b[0m in \u001b[0;36mevaluate\u001b[0;34m(model, data_loader)\u001b[0m\n\u001b[1;32m     16\u001b[0m             \u001b[0mground_truth\u001b[0m\u001b[0;34m[\u001b[0m\u001b[0mj\u001b[0m\u001b[0;34m]\u001b[0m \u001b[0;34m=\u001b[0m \u001b[0mpack\u001b[0m\u001b[0;34m[\u001b[0m\u001b[0;36m5\u001b[0m\u001b[0;34m*\u001b[0m\u001b[0mj\u001b[0m\u001b[0;34m:\u001b[0m \u001b[0;36m5\u001b[0m\u001b[0;34m*\u001b[0m\u001b[0mj\u001b[0m\u001b[0;34m+\u001b[0m\u001b[0;36m4\u001b[0m\u001b[0;34m]\u001b[0m\u001b[0;34m.\u001b[0m\u001b[0mclone\u001b[0m\u001b[0;34m(\u001b[0m\u001b[0;34m)\u001b[0m\u001b[0;34m\u001b[0m\u001b[0m\n\u001b[1;32m     17\u001b[0m             \u001b[0mcls\u001b[0m\u001b[0;34m[\u001b[0m\u001b[0mj\u001b[0m\u001b[0;34m]\u001b[0m \u001b[0;34m=\u001b[0m \u001b[0mpack\u001b[0m\u001b[0;34m[\u001b[0m\u001b[0;36m5\u001b[0m\u001b[0;34m*\u001b[0m\u001b[0mj\u001b[0m\u001b[0;34m+\u001b[0m\u001b[0;36m4\u001b[0m\u001b[0;34m]\u001b[0m\u001b[0;34m\u001b[0m\u001b[0m\n\u001b[0;32m---> 18\u001b[0;31m             \u001b[0mbox_img\u001b[0m \u001b[0;34m=\u001b[0m \u001b[0mVariable\u001b[0m\u001b[0;34m(\u001b[0m\u001b[0mTransition\u001b[0m\u001b[0;34m(\u001b[0m\u001b[0mground_truth\u001b[0m\u001b[0;34m[\u001b[0m\u001b[0mj\u001b[0m\u001b[0;34m]\u001b[0m\u001b[0;34m,\u001b[0m \u001b[0mimg\u001b[0m\u001b[0;34m)\u001b[0m\u001b[0;34m)\u001b[0m\u001b[0;34m.\u001b[0m\u001b[0mcuda\u001b[0m\u001b[0;34m(\u001b[0m\u001b[0;34m)\u001b[0m\u001b[0;34m\u001b[0m\u001b[0m\n\u001b[0m\u001b[1;32m     19\u001b[0m             \u001b[0mlabel\u001b[0m \u001b[0;34m=\u001b[0m \u001b[0mVariable\u001b[0m\u001b[0;34m(\u001b[0m\u001b[0mtorch\u001b[0m\u001b[0;34m.\u001b[0m\u001b[0mLongTensor\u001b[0m\u001b[0;34m(\u001b[0m\u001b[0;34m[\u001b[0m\u001b[0mcls\u001b[0m\u001b[0;34m[\u001b[0m\u001b[0mj\u001b[0m\u001b[0;34m]\u001b[0m\u001b[0;34m]\u001b[0m\u001b[0;34m)\u001b[0m\u001b[0;34m)\u001b[0m\u001b[0;34m.\u001b[0m\u001b[0mcuda\u001b[0m\u001b[0;34m(\u001b[0m\u001b[0;34m)\u001b[0m\u001b[0;34m\u001b[0m\u001b[0m\n\u001b[1;32m     20\u001b[0m \u001b[0;34m\u001b[0m\u001b[0m\n",
      "\u001b[0;31mTypeError\u001b[0m: Transition() takes exactly 1 argument (2 given)"
     ]
    }
   ],
   "source": [
    "model = torch.load('roi_net.pth').cuda()\n",
    "import tqdm\n",
    "def evaluate(model, data_loader):\n",
    "    score = []\n",
    "    model.eval()\n",
    "    total = 0\n",
    "    correct = 0\n",
    "    for i, (img, pack, fn) in tqdm.tqdm(enumerate(data_loader),\n",
    "                                               total=Dataset_length,\n",
    "                                               ncols=80, leave=False):\n",
    "        num = int(pack.size(1) / 5)\n",
    "        ground_truth = torch.LongTensor(num, 4)\n",
    "        cls = torch.LongTensor(num)\n",
    "        pack = pack.squeeze(0)\n",
    "        for j in xrange(num):\n",
    "            ground_truth[j] = pack[5*j: 5*j+4].clone()\n",
    "            cls[j] = pack[5*j+4]\n",
    "            box_img = Variable(Transition(ground_truth[j], img)).cuda()\n",
    "            label = Variable(torch.LongTensor([cls[j]])).cuda()\n",
    "            \n",
    "            output = model(box_img)\n",
    "            _, pred = torch.max(output.data, 1)\n",
    "            total += label.size(0)\n",
    "            correct += (pred == label.data).sum()   \n",
    "        if i % 100 == 0:\n",
    "            score.append(float(correct)/total)\n",
    "        #score = torch.nn.functional.upsample_bilinear(score, (1280, 1918))\n",
    "    return score\n",
    "Dataset_length = len(test_data)\n",
    "#net = torch.load('roi_net40.pth')\n",
    "score = evaluate(model, test_batch)\n",
    "\n",
    "plt.plot(score[1:],'-o')\n",
    "plt.xlabel('batch')\n",
    "plt.ylabel('accuracy')\n",
    "plt.title('Test Accuracy')\n",
    "plt.show()"
   ]
  },
  {
   "cell_type": "code",
   "execution_count": 6,
   "metadata": {
    "collapsed": true
   },
   "outputs": [
    {
     "name": "stdout",
     "output_type": "stream",
     "text": [
      "Accuracy: 0.0\n",
      "Accuracy: 0.217821782178\n",
      "Accuracy: 0.194029850746\n",
      "Accuracy: 0.202657807309\n",
      "Accuracy: 0.211970074813\n",
      "Accuracy: 0.22754491018\n",
      "Accuracy: 0.257903494176\n",
      "Accuracy: 0.266761768902\n",
      "Accuracy: 0.265917602996\n",
      "Accuracy: 0.263041065483\n",
      "Accuracy: 0.264735264735\n",
      "Accuracy: 0.262488646685\n",
      "Accuracy: 0.259783513739\n",
      "Accuracy: 0.261337432744\n",
      "Accuracy: 0.260528194147\n",
      "Accuracy: 0.252498334444\n",
      "Accuracy: 0.251093066833\n",
      "Accuracy: 0.253380364491\n",
      "Accuracy: 0.254303164908\n",
      "Accuracy: 0.253550762756\n",
      "Accuracy: 0.255872063968\n",
      "Accuracy: 0.256544502618\n",
      "Accuracy: 0.258064516129\n",
      "Accuracy: 0.261625380269\n",
      "Accuracy: 0.262807163682\n",
      "Accuracy: 0.265893642543\n",
      "Accuracy: 0.264513648597\n",
      "Accuracy: 0.264716771566\n",
      "Accuracy: 0.263477329525\n",
      "Accuracy: 0.261978628059\n",
      "Accuracy: 0.26124625125\n",
      "Accuracy: 0.263463398904\n",
      "Accuracy: 0.263667603874\n",
      "Accuracy: 0.263253559527\n",
      "Accuracy: 0.264628050573\n",
      "Accuracy: 0.267066552414\n",
      "Accuracy: 0.265204109969\n",
      "Accuracy: 0.265063496352\n",
      "Accuracy: 0.263877926861\n",
      "Accuracy: 0.264034862856\n",
      "Accuracy: 0.265683579105\n",
      "Accuracy: 0.266032674957\n",
      "Accuracy: 0.264698881219\n",
      "Accuracy: 0.264589630319\n",
      "Accuracy: 0.265621449671\n",
      "Accuracy: 0.264830037769\n",
      "Accuracy: 0.266029124103\n",
      "Accuracy: 0.265688151457\n",
      "Accuracy: 0.266402832743\n",
      "Accuracy: 0.266272189349\n",
      "Accuracy: 0.266546690662\n",
      "Accuracy: 0.266026269359\n",
      "Accuracy: 0.265141318977\n",
      "Accuracy: 0.265610262215\n",
      "Accuracy: 0.267357896686\n",
      "Accuracy: 0.267042355935\n",
      "Accuracy: 0.267987859311\n",
      "Accuracy: 0.266619891247\n",
      "Accuracy: 0.267195311153\n",
      "Accuracy: 0.266226063379\n",
      "Accuracy: 0.266288951841\n",
      "Accuracy: 0.267988854286\n",
      "Accuracy: 0.268988872762\n",
      "Accuracy: 0.269004919854\n",
      "Accuracy: 0.269489142322\n",
      "Accuracy: 0.269958467928\n",
      "Accuracy: 0.269807604908\n",
      "Accuracy: 0.271004327712\n",
      "Accuracy: 0.272018820762\n",
      "Accuracy: 0.271844660194\n",
      "Accuracy: 0.271961148407\n",
      "Accuracy: 0.271933530489\n",
      "Accuracy: 0.271628940425\n",
      "Accuracy: 0.271743596768\n",
      "Accuracy: 0.272125388461\n",
      "Accuracy: 0.272363684842\n",
      "Accuracy: 0.271543217998\n",
      "Accuracy: 0.271653032074\n",
      "Accuracy: 0.27124727599\n",
      "Accuracy: 0.271864320972\n",
      "Accuracy: 0.273215848019\n",
      "Accuracy: 0.273299592643\n",
      "Accuracy: 0.272771613218\n",
      "Accuracy: 0.273220093965\n",
      "Accuracy: 0.272586596834\n",
      "Accuracy: 0.272673803082\n",
      "Accuracy: 0.272526450413\n",
      "Accuracy: 0.271922767498\n",
      "Accuracy: 0.272014543802\n",
      "Accuracy: 0.271991911021\n",
      "Accuracy: 0.271414287301\n",
      "Accuracy: 0.271508625426\n",
      "Accuracy: 0.271709596783\n",
      "Accuracy: 0.272121277282\n",
      "Accuracy: 0.272843314541\n",
      "Accuracy: 0.27239237975\n",
      "Accuracy: 0.271846682637\n",
      "Accuracy: 0.272961550356\n",
      "Accuracy: 0.273237424753\n",
      "Accuracy: 0.273911726088\n",
      "Accuracy: 0.274572542746\n",
      "Accuracy: 0.274032274032\n",
      "Accuracy: 0.274090775414\n",
      "Accuracy: 0.273468595282\n",
      "Accuracy: 0.273242957408\n",
      "Accuracy: 0.272640700886\n",
      "Accuracy: 0.273936421092\n",
      "Accuracy: 0.274179983179\n",
      "Accuracy: 0.274048699195\n",
      "Accuracy: 0.274195027979\n",
      "Accuracy: 0.274520498137\n",
      "Accuracy: 0.274119448698\n",
      "Accuracy: 0.273725560218\n",
      "Accuracy: 0.273427130342\n",
      "Accuracy: 0.273572493641\n",
      "Accuracy: 0.273802278063\n",
      "Accuracy: 0.273683303164\n",
      "Accuracy: 0.27365182463\n",
      "Accuracy: 0.273620879586\n",
      "Accuracy: 0.273758507688\n",
      "Accuracy: 0.273560536622\n",
      "Accuracy: 0.273448475333\n",
      "Accuracy: 0.273338250963\n",
      "Accuracy: 0.273392407121\n",
      "Accuracy: 0.273526328522\n",
      "Accuracy: 0.27349812015\n",
      "Accuracy: 0.273311641933\n",
      "Accuracy: 0.273600503897\n",
      "Accuracy: 0.274431685025\n",
      "Accuracy: 0.274552360282\n",
      "Accuracy: 0.27459426198\n",
      "Accuracy: 0.27494084421\n",
      "Accuracy: 0.275206423756\n",
      "Accuracy: 0.275167280656\n",
      "Accuracy: 0.275128721737\n",
      "Accuracy: 0.27479445967\n",
      "Accuracy: 0.274685684876\n",
      "Accuracy: 0.274797460039\n",
      "Accuracy: 0.27519744946\n",
      "Accuracy: 0.275016185886\n",
      "Accuracy: 0.275123205485\n",
      "Accuracy: 0.275654208921\n",
      "Accuracy: 0.27603689881\n",
      "Accuracy: 0.276274386407\n",
      "Accuracy: 0.276439136171\n",
      "Accuracy: 0.275636163023\n",
      "Accuracy: 0.275118142593\n",
      "Accuracy: 0.275423440582\n",
      "Accuracy: 0.275454361192\n",
      "Accuracy: 0.275417757198\n",
      "Accuracy: 0.275314979001\n"
     ]
    }
   ],
   "source": [
    "#text accuracy\n",
    "resnet.eval()\n",
    "correct = 0\n",
    "total = 0\n",
    "\n",
    "for i, (img,label, pack, fn) in enumerate(test_batch):\n",
    "    img = Variable(img).cuda()\n",
    "    label = Variable(label).cuda()\n",
    "    \n",
    "    output = resnet(img)\n",
    "    _, pred = torch.max(output.data,1)\n",
    "    total += label.size(0)\n",
    "    correct += (pred == label.data).sum()   \n",
    "    if i % 100 == 0:\n",
    "        print(\"Accuracy: {}\".format(float(correct)/total ))\n",
    "#print(\"Accuracy: {}\".format(correct/total))"
   ]
  }
 ],
 "metadata": {
  "kernelspec": {
   "display_name": "Python 2",
   "language": "python",
   "name": "python2"
  },
  "language_info": {
   "codemirror_mode": {
    "name": "ipython",
    "version": 2
   },
   "file_extension": ".py",
   "mimetype": "text/x-python",
   "name": "python",
   "nbconvert_exporter": "python",
   "pygments_lexer": "ipython2",
   "version": "2.7.6"
  }
 },
 "nbformat": 4,
 "nbformat_minor": 2
}
